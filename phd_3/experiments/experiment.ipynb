{
 "cells": [
  {
   "cell_type": "code",
   "execution_count": 3,
   "metadata": {
    "pycharm": {
     "name": "#%%\n"
    }
   },
   "outputs": [
    {
     "name": "stdout",
     "output_type": "stream",
     "text": [
      "Calling FFC just-in-time (JIT) compiler, this may take some time.\n",
      "Calling FFC just-in-time (JIT) compiler, this may take some time.\n",
      "Calling FFC just-in-time (JIT) compiler, this may take some time.\n",
      "Calling FFC just-in-time (JIT) compiler, this may take some time.\n",
      "Calling FFC just-in-time (JIT) compiler, this may take some time.\n"
     ]
    }
   ],
   "source": [
    "import sys\n",
    "\n",
    "sys.path.append('/home/fenics')\n",
    "sys.path.append('/home/fenics/phd_3/experiments')\n",
    "import utilities\n",
    "import default_values"
   ]
  },
  {
   "cell_type": "code",
   "execution_count": 7,
   "metadata": {
    "pycharm": {
     "name": "#%%\n"
    }
   },
   "outputs": [],
   "source": [
    "from dolfin import *\n",
    "from dolfin.cpp.log import set_log_active\n",
    "from dolfin.cpp.parameter import parameters\n",
    "\n",
    "from default_values import DefaultValues3D\n",
    "from solver import Problem\n",
    "from utilities import clear_dir, print_3d_boundaries_on_cube\n",
    "\n",
    "set_log_active(False)\n",
    "\n",
    "parameters[\"form_compiler\"][\"optimize\"] = True\n",
    "parameters[\"form_compiler\"][\"cpp_optimize\"] = True\n",
    "\n",
    "default_values = DefaultValues3D(\n",
    "    theta_n=Constant(0.5),\n",
    "    theta_b=Expression('0.1 + x[2] / 2', degree=3),\n",
    "    psi_n_init=Constant(0)\n",
    ")\n",
    "\n",
    "problem = Problem(default_values=default_values)\n",
    "\n",
    "\n",
    "def experiment_1(folder='exp1'):\n",
    "    problem.solve_boundary()\n",
    "    print_3d_boundaries_on_cube(\n",
    "        problem.theta, name='theta_init', folder='exp1'\n",
    "    )\n",
    "    problem.quality()\n",
    "    f = File('exp1/solution_0.xml')\n",
    "    f << problem.theta\n",
    "\n",
    "    iterator = problem.find_optimal_control(0.2)\n",
    "    for i in range(10 ** 5):\n",
    "        next(iterator)\n",
    "        #\n",
    "        _diff = problem.quality_history[-2] - problem.quality_history[-1]\n",
    "        print(f'Iteration {i},\\tquality: {problem.quality_history[-1]},\\t{_diff}')\n",
    "        if not i % 100:\n",
    "            problem.lambda_ += 0.1\n",
    "        if i in [5, 25, 50, 100, 1000, 5000, 10000]:\n",
    "            f = File(f'{folder}/solution_{i}.xml')\n",
    "            f << problem.theta\n",
    "            print_3d_boundaries_on_cube(\n",
    "                problem.theta, name=f'theta_{i}', folder='exp1/'\n",
    "            )\n",
    "        with open(f'{folder}/quality.txt', 'w') as f:\n",
    "            print(*problem.quality_history, file=f)\n",
    "\n",
    "\n",
    "if __name__ == \"__main__\":\n",
    "    clear_dir('exp1')\n",
    "    try:\n",
    "        experiment_1()\n",
    "    except KeyboardInterrupt:\n",
    "        print('Keyboard interaction signal. Wrapping out.')\n",
    "        pass\n",
    "    finally:\n",
    "        f = File(f'exp1/solution_final.xml')\n",
    "        f << problem.theta\n",
    "        print_3d_boundaries_on_cube(problem.theta, name=f'theta_final', folder='exp1')\n"
   ]
  }
 ],
 "metadata": {
  "kernelspec": {
   "display_name": "Python 3",
   "language": "python",
   "name": "python3"
  },
  "language_info": {
   "codemirror_mode": {
    "name": "ipython",
    "version": 3
   },
   "file_extension": ".py",
   "mimetype": "text/x-python",
   "name": "python",
   "nbconvert_exporter": "python",
   "pygments_lexer": "ipython3",
   "version": "3.6.7"
  }
 },
 "nbformat": 4,
 "nbformat_minor": 2
}